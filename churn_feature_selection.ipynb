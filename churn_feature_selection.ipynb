{
  "nbformat": 4,
  "nbformat_minor": 0,
  "metadata": {
    "colab": {
      "provenance": [],
      "include_colab_link": true
    },
    "kernelspec": {
      "name": "python3",
      "display_name": "Python 3"
    },
    "language_info": {
      "name": "python"
    }
  },
  "cells": [
    {
      "cell_type": "markdown",
      "metadata": {
        "id": "view-in-github",
        "colab_type": "text"
      },
      "source": [
        "<a href=\"https://colab.research.google.com/github/yuriborg/dsmkt/blob/main/churn_feature_selection.ipynb\" target=\"_parent\"><img src=\"https://colab.research.google.com/assets/colab-badge.svg\" alt=\"Open In Colab\"/></a>"
      ]
    },
    {
      "cell_type": "markdown",
      "source": [
        "# AWS Creds"
      ],
      "metadata": {
        "id": "N_KGK_iENj84"
      }
    },
    {
      "cell_type": "markdown",
      "source": [
        "# Bibliotecas"
      ],
      "metadata": {
        "id": "I5WFqjjsNync"
      }
    },
    {
      "cell_type": "code",
      "source": [
        "import pandas as pd\n",
        "import numpy as np\n",
        "import seaborn as sns\n",
        "import matplotlib.pyplot as plt\n",
        "import os, sys\n",
        "import time\n",
        "import datetime\n",
        "import statistics\n",
        "import re\n",
        "import scipy\n",
        "import unicodedata\n",
        "import json\n",
        "\n",
        "from scipy.stats import chi2_contingency\n",
        "\n",
        "import plotly.express as px\n",
        "from IPython.display import HTML\n",
        "import plotly.figure_factory as ff\n",
        "\n",
        "import warnings\n",
        "warnings.simplefilter(action='ignore', category=FutureWarning)\n",
        "\n",
        "plt.rcParams['axes.facecolor'] = 'white'\n",
        "dt = datetime.datetime.now().strftime('%d%m%Y_%H%M%S')\n",
        "\n",
        "\n",
        "import boto3\n",
        "import pandas as pd\n",
        "from io import StringIO"
      ],
      "metadata": {
        "id": "_2Z3HSZCNy_E"
      },
      "execution_count": null,
      "outputs": []
    },
    {
      "cell_type": "markdown",
      "source": [
        "# Feature Engineering Functions"
      ],
      "metadata": {
        "id": "kmp3_P60N4Em"
      }
    },
    {
      "cell_type": "code",
      "source": [
        "def get_missing_cols(\n",
        "    df,\n",
        "    apply_filter = True,\n",
        "    threshold = 50,\n",
        "    cols_to_remove = None,\n",
        "    verbose = False\n",
        "):\n",
        "    t = df.copy()\n",
        "    if cols_to_remove is not None:\n",
        "        if verbose:\n",
        "            print('removing columns: {}'.format(cols_to_remove))\n",
        "        t = t[list(set(t.columns) - set(cols_to_remove))]\n",
        "    t_missing = pd.DataFrame({\n",
        "                    'coluna': t.isna().sum().index,\n",
        "                    'qtd_faltantes': t.isna().sum().values,\n",
        "                    '%_faltantes': (t.isna().sum().values)*100/len(t.isna())\n",
        "                }).sort_values(by=['qtd_faltantes'], ascending = False)\n",
        "    t_missing['qtd_preenchida'] = list(map(lambda col: len(t[~t[col].isna()]),\n",
        "                                                          t_missing.coluna.values))\n",
        "    if apply_filter:\n",
        "        return t_missing[t_missing['%_faltantes']>=threshold].reset_index(drop=True)\n",
        "    else:\n",
        "        return t_missing.reset_index(drop=True)\n",
        "\n",
        "def findcol(val):\n",
        "    return list(filter(lambda x: val.lower() in x.lower(), df.columns))\n",
        "\n",
        "def cramers_V(var1,var2) :\n",
        "    crosstab = np.array(pd.crosstab(var1, var2, rownames=None, colnames=None)) # Cross table building\n",
        "    stat = chi2_contingency(crosstab)[0] # Keeping of the test statistic of the Chi2 test\n",
        "    obs = np.sum(crosstab) # Number of observations\n",
        "    mini = min(crosstab.shape)-1 # Take the minimum value between the columns and the rows of the cross table\n",
        "    return (stat/(obs*mini))\n",
        "\n",
        "def CramerV_table(df, cols):\n",
        "    exc_cols=[]\n",
        "    rows= []\n",
        "    c=0\n",
        "    N = len(cols)*len(cols)\n",
        "    for var1 in cols:\n",
        "        col = []\n",
        "        for var2 in cols :\n",
        "            c+=1\n",
        "            print('({:.3f}%) ({}/{}) ({}, {})'.format(c*100/N, c, N, var1, var2))\n",
        "\n",
        "            try:\n",
        "                cramers =cramers_V(df[var1], df[var2]) # Cramer's V test\n",
        "                col.append(round(cramers,6)) # Keeping of the rounded value of the Cramer's V\n",
        "            except Exception as e:\n",
        "                exc_cols.append('{},{}'.format(var1, var2))\n",
        "\n",
        "        rows.append(col)\n",
        "\n",
        "    cramers_results = np.array(rows)\n",
        "\n",
        "    return pd.DataFrame(cramers_results,\n",
        "                      columns = cols,\n",
        "                      index = cols), exc_cols\n",
        "\n",
        "def CramerV_vector(df, target, cols, verbose = True):\n",
        "    exc_cols=[]\n",
        "    rows= []\n",
        "    d = {'col':[],\n",
        "       'CramersV':[]}\n",
        "    c=0\n",
        "    N = len(cols)\n",
        "    for var1 in cols:\n",
        "        c+=1\n",
        "        if verbose:\n",
        "            print('({:.3f}%) ({}/{}) ({}, {})'.format(c*100/N, c, N, var1, target))\n",
        "\n",
        "        try:\n",
        "            cramers =cramers_V(df[var1], df[target]) # Cramer's V test\n",
        "\n",
        "            d['col'].append(var1)\n",
        "            d['CramersV'].append(round(cramers,6))\n",
        "\n",
        "        except Exception as e:\n",
        "            exc_cols.append('{}'.format(var1))\n",
        "\n",
        "    res = pd.DataFrame(d)\n",
        "    res = res.fillna(0.0)\n",
        "\n",
        "    res.index = res['col']\n",
        "    res.sort_values(by=['CramersV'], ascending = False, inplace = True)\n",
        "    return res[['CramersV']], exc_cols\n",
        "\n",
        "\n",
        "def save_csv_in_bucket(\n",
        "    df,\n",
        "    filename,\n",
        "    my_bucket = \"sami-data-platform-s3-dev-sandbox-data-science\",\n",
        "    access_key = None,\n",
        "    secret_access_key = None,\n",
        "):\n",
        "    if access_key is None:\n",
        "        access_key = getpass('Enter the access key.\\n')\n",
        "    if secret_access_key is None:\n",
        "        secret_acess_key = getpass('Enter the secret acess key: \\n')\n",
        "\n",
        "    s3 = boto3.resource(\n",
        "        service_name='s3',\n",
        "        region_name='us-east-1',\n",
        "        aws_access_key_id=access_key,\n",
        "        aws_secret_access_key=secret_access_key\n",
        "    )\n",
        "    csv_buffer = StringIO()\n",
        "    df.to_csv(csv_buffer)\n",
        "    s3.Bucket(my_bucket).put_object(Key=filename,\n",
        "                               Body = csv_buffer.getvalue())\n",
        "\n",
        "def load_csv_from_bucket(\n",
        "    filename,\n",
        "    access_key = access_key,\n",
        "    secret_access_key = secret_access_key,\n",
        "    my_bucket = \"sami-data-platform-s3-dev-sandbox-data-science\"\n",
        "):\n",
        "    return pd.read_csv(f's3://{my_bucket}/{filename}', storage_options = {\n",
        "            'key': access_key,\n",
        "            'secret': secret_access_key,\n",
        "        },\n",
        "        index_col = 0)\n",
        "\n",
        "def get_cat_num_vars(df):\n",
        "    # separating categorical and numerical\n",
        "    cat_cols = df.select_dtypes(exclude='number').columns\n",
        "    num_cols = df.select_dtypes(include='number').columns\n",
        "    return cat_cols, num_cols"
      ],
      "metadata": {
        "id": "_NdXjJBtN4Wy"
      },
      "execution_count": null,
      "outputs": []
    },
    {
      "cell_type": "markdown",
      "source": [
        "# Data Extraction"
      ],
      "metadata": {
        "id": "ZxWU9uobN9X7"
      }
    },
    {
      "cell_type": "code",
      "source": [
        "def list_files_in_bucket(\n",
        "    aws_access_key_id,\n",
        "    aws_secret_access_key,\n",
        "    service_name='s3',\n",
        "    region_name='us-east-1',\n",
        "    bucket_name = \"sami-data-platform-s3-dev-sandbox-data-science\"\n",
        "):\n",
        "    s3 = boto3.resource(\n",
        "        service_name=service_name,\n",
        "        region_name=region_name,\n",
        "        aws_access_key_id= aws_access_key_id,\n",
        "        aws_secret_access_key=aws_secret_access_key\n",
        "    )\n",
        "    for obj in s3.Bucket(bucket_name).objects.all():\n",
        "        print(obj)\n",
        "\n",
        "s3 = boto3.resource(\n",
        "    service_name='s3',\n",
        "    region_name='us-east-1',\n",
        "    aws_access_key_id= access_key,\n",
        "    aws_secret_access_key= secret_access_key\n",
        ")\n",
        "for obj in s3.Bucket(\"sami-data-platform-s3-dev-sandbox-data-science\").objects.all():\n",
        "    print(obj)"
      ],
      "metadata": {
        "id": "UvQet-11N9Ft"
      },
      "execution_count": null,
      "outputs": []
    },
    {
      "cell_type": "markdown",
      "source": [
        "# Dataset preprocessado (imputation, scaling, encoding)\n"
      ],
      "metadata": {
        "id": "7tLfBSdUODax"
      }
    },
    {
      "cell_type": "code",
      "source": [
        "df_prep = load_csv_from_bucket('churn_preprocessed_21112022.csv')\n",
        "df_prep"
      ],
      "metadata": {
        "id": "ku971whyOCmb"
      },
      "execution_count": null,
      "outputs": []
    },
    {
      "cell_type": "code",
      "source": [
        "print(df_prep.shape)\n",
        "df_prep = df_prep[\n",
        "    list(set(df_prep.columns) - set(['churn_churnou', 'churn_não churnou']))\n",
        "]\n",
        "print(df_prep.shape)"
      ],
      "metadata": {
        "id": "W9d7x4eTOH6m"
      },
      "execution_count": null,
      "outputs": []
    },
    {
      "cell_type": "code",
      "source": [
        "get_missing_cols(df_prep)"
      ],
      "metadata": {
        "id": "zDwidZSwOH4j"
      },
      "execution_count": null,
      "outputs": []
    },
    {
      "cell_type": "markdown",
      "source": [
        "# Dataset sem encoding e scaling"
      ],
      "metadata": {
        "id": "0OSU9ESqOL6W"
      }
    },
    {
      "cell_type": "code",
      "source": [
        "df = load_csv_from_bucket('churn_cleaned_21112022.csv')\n",
        "df"
      ],
      "metadata": {
        "id": "K4jjLaU6OH2a"
      },
      "execution_count": null,
      "outputs": []
    },
    {
      "cell_type": "code",
      "source": [
        "get_missing_cols(df)"
      ],
      "metadata": {
        "id": "1mUk_m2EOHz0"
      },
      "execution_count": null,
      "outputs": []
    },
    {
      "cell_type": "code",
      "source": [
        "# dummies one-hot-encoding\n",
        "onehot_cols = list(set(df_prep.columns) - set(df.columns))\n",
        "onehot_cols"
      ],
      "metadata": {
        "id": "obZY-CgmOHxY"
      },
      "execution_count": null,
      "outputs": []
    },
    {
      "cell_type": "markdown",
      "source": [
        "# Feature selection\n",
        "Há diversos métodos para seleção de features. Alguns métodos são mais apropriados para determinados tipos de dados. Exemplos:\n",
        "\n",
        "Input numérico, output numérico:\n",
        "correlação de pearson (linear)\n",
        "índice de Spearman (não-linear)\n",
        "Input numérico, output categórico:\n",
        "ANOVA (linear)\n",
        "Coeficiente de Kendall (não-linear)\n",
        "Input categórico, ouput numérico:\n",
        "Regressão, pode usar os métodos de input numérico e output categórico\n",
        "Input categórico, ouput categórico:\n",
        "Teste chi-quadrado de contingência\n",
        "Teste de informação mútua\n",
        "Em nosso caso, caso façamos a modelagem com a variável dicotômica \"e_desligado\" (ou \"churn\"), devemos usar os métodos de output categórico, e especialmente para nossos dados eventualmente podemos discretizar uma variável contínua, ou usar a forma contínua, ex: nota média HRA (contínua), ou \"classe nota HRA\" (boa, ruim, média). Contudo, se utilizarmos a variável \"tempo de contrato\", o output é numérico"
      ],
      "metadata": {
        "id": "5lbYUSdXOTM0"
      }
    },
    {
      "cell_type": "markdown",
      "source": [
        "# Select KBest"
      ],
      "metadata": {
        "id": "9Qy7XUJkOWZW"
      }
    },
    {
      "cell_type": "code",
      "source": [
        "from sklearn.feature_selection import SelectKBest\n",
        "from sklearn.feature_selection import chi2, f_classif\n",
        "\n",
        "def select_k_best_features(X_feat, y,\n",
        "                           #num_cols, one_hot_cols,\n",
        "                           features,\n",
        "                           K = 10,\n",
        "                           cols_to_remove = None,\n",
        "                           score_func = chi2,\n",
        "                           filter_data = True,\n",
        "                           apply_minmax = True\n",
        "                           ):\n",
        "\n",
        "    X_df = pd.DataFrame(X_feat,\n",
        "                      columns = features #list(num_cols) + list(one_hot_cols)\n",
        "                       )\n",
        "\n",
        "    if cols_to_remove is not None:\n",
        "        X_df = X_df[\n",
        "                list(set(X_df.columns) - set(cols_to_remove)\n",
        "                )\n",
        "        ]\n",
        "\n",
        "    #apply SelectKBest class to extract top 10 best features\n",
        "    bestfeatures = SelectKBest(score_func=score_func, k=K)\n",
        "    fit = bestfeatures.fit(X_feat, y)\n",
        "\n",
        "    dfscores = pd.DataFrame(fit.scores_)\n",
        "    dfcolumns = pd.DataFrame(X_df.columns)\n",
        "\n",
        "    #concat two dataframes for better visualization\n",
        "    featureScores = pd.concat([dfcolumns,dfscores],axis=1)\n",
        "    featureScores.columns = ['Specs','Score']  #naming the dataframe columns\n",
        "#     print(featureScores.nlargest(K,'Score'))  #print 10 best features\n",
        "\n",
        "    if apply_minmax:\n",
        "        min_score = featureScores['Score'].min()\n",
        "        A_score = featureScores['Score'].max() - min_score\n",
        "        featureScores['minmax_score'] = list(map(lambda score: (score - min_score)/(A_score),\n",
        "                                featureScores['Score'].values\n",
        "                                ))\n",
        "    if filter_data:\n",
        "        featureScores = featureScores.sort_values(by=['Score'], ascending = False)\n",
        "        featureScores = featureScores[~featureScores['Score'].isna()].reset_index(drop=True)\n",
        "\n",
        "    return featureScores"
      ],
      "metadata": {
        "id": "rlNPSKclOHdW"
      },
      "execution_count": null,
      "outputs": []
    },
    {
      "cell_type": "markdown",
      "source": [
        "# Plots"
      ],
      "metadata": {
        "id": "uqEur3CXOcJr"
      }
    },
    {
      "cell_type": "code",
      "source": [
        "\n",
        "def plot_feat_sel_score(\n",
        "        feat_sel_tab,\n",
        "        method_name,\n",
        "        score_var = 'Score',\n",
        "        feat_var = 'Specs',\n",
        "        threshold = 0.01,\n",
        "        height = 750,\n",
        "        width = 1500,\n",
        "        ticks_rotation=0\n",
        "    ):\n",
        "    t = feat_sel_tab.copy()\n",
        "    t.index = t[feat_var].values\n",
        "    t = t[t['minmax_score']>threshold]\n",
        "\n",
        "    # ------- heatmap\n",
        "    plt.figure(figsize=(32,3))\n",
        "    plt.title(f'Feature Selection - {method_name} (>{threshold})',\n",
        "              fontsize = 16)\n",
        "    sns.heatmap(t[['minmax_score']].T,\n",
        "                annot = True,\n",
        "                fmt = '.2f')\n",
        "    plt.show()\n",
        "\n",
        "    # ------ polar plot\n",
        "\n",
        "    # better display for labels\n",
        "#     t = replace_vars(t, feat_var)\n",
        "#     t[feat_var] = list(map(lambda x: x.replace(' ', '<br>'), t[feat_var].values))\n",
        "\n",
        "\n",
        "    fig = px.line_polar(t[t['minmax_score']>threshold],\n",
        "                        r=\"minmax_score\",\n",
        "                        theta=feat_var,\n",
        "                        line_close=True,\n",
        "                        height = height,\n",
        "                        width = width\n",
        "                       )\n",
        "    fig.update_layout(\n",
        "        title = f'Feature Selection - {method_name} (>{threshold})',\n",
        "        title_x = 0.5,\n",
        "#         title_y = 0.6,\n",
        "        xaxis_title=\"variáveis\",\n",
        "        yaxis_title=\"minmax score\",\n",
        "        font=dict(\n",
        "            family=\"Lato\",\n",
        "            size=12,\n",
        "        ),\n",
        "        polar_angularaxis = dict(\n",
        "            rotation=ticks_rotation\n",
        "        )\n",
        "    )\n",
        "    fig.show()\n",
        "\n",
        "\n",
        "def plot_feat_sel_score2(\n",
        "        feat_sel_tab,\n",
        "        method_name,\n",
        "        score_var = 'Score',\n",
        "        feat_var = 'Specs',\n",
        "        threshold = 0.01,\n",
        "        height = 750,\n",
        "        width = 1500,\n",
        "        ticks_rotation=0\n",
        "    ):\n",
        "    t = feat_sel_tab.copy()\n",
        "    t.index = t[feat_var].values\n",
        "    t = t[t['minmax_score']>threshold]\n",
        "\n",
        "    # ------- heatmap\n",
        "    plt.figure(figsize=(32,3))\n",
        "    plt.title(f'Feature Selection - {method_name} (>{threshold})',\n",
        "              fontsize = 16)\n",
        "    sns.heatmap(t[['minmax_score']].T,\n",
        "                annot = True,\n",
        "                fmt = '.2f')\n",
        "    plt.show()\n",
        "\n",
        "    # ------ polar plot\n",
        "\n",
        "    # better display for labels\n",
        "#     t = replace_vars(t, feat_var)\n",
        "#     t[feat_var] = list(map(lambda x: x.replace(' ', '<br>'), t[feat_var].values))\n",
        "\n",
        "\n",
        "    fig = px.scatter_polar(t[t['minmax_score']>threshold],\n",
        "                        r=\"minmax_score\",\n",
        "                        theta=feat_var,\n",
        "#                         line_close=True,\n",
        "                        height = height,\n",
        "                        width = width\n",
        "                       )\n",
        "    fig.update_layout(\n",
        "        title = f'Feature Selection - {method_name} (>{threshold})',\n",
        "        title_x = 0.5,\n",
        "#         title_y = 0.6,\n",
        "        xaxis_title=\"variáveis\",\n",
        "        yaxis_title=\"minmax score\",\n",
        "        font=dict(\n",
        "            family=\"Lato\",\n",
        "            size=12,\n",
        "        ),\n",
        "        polar_angularaxis = dict(\n",
        "            rotation=ticks_rotation\n",
        "        )\n",
        "    )\n",
        "    fig.show()"
      ],
      "metadata": {
        "id": "Eq2JXpM7Ocd0"
      },
      "execution_count": null,
      "outputs": []
    },
    {
      "cell_type": "markdown",
      "source": [
        "# Plot Ajustado Utils"
      ],
      "metadata": {
        "id": "4V5953VYOl6O"
      }
    },
    {
      "cell_type": "code",
      "source": [
        "vars_to_adj = [\n",
        "        'qtd_notas_medias_nps_trans',\n",
        "         'classe_nota_media<br>nps_global_muito<br>bom_[9-10]',\n",
        "         'max_tempo_sami_meses',\n",
        "         'classe_nota_media<br>nps_trans_ruim<br>[3,_5[',\n",
        "         'soma_dias_atraso_inad',\n",
        "         'qtd_notas_baixas_nps_trans',\n",
        "         'nota_max_nps_trans',\n",
        "         'nota_media_nps_trans',\n",
        "         'classe_nota_media<br>nps_global_médio<br>[5,_7[',\n",
        "         'ultimo_metodo_pag_CARTAO',\n",
        "         'ultimo_metodo_pag_BOLETO',\n",
        "         'classe_nota_media<br>nps_trans_muito<br>ruim_[0,_3[',\n",
        "         'classe_uso_guias<br>abaixo_da<br>média_[0,_2.5[',\n",
        "         'max_t_atend_hora',\n",
        "         'media_t_atend_hora',\n",
        "         'min_t_atend_hora',\n",
        "         'media_tempo_sami_meses',\n",
        "         'max_t_atend_s',\n",
        "         'classif_tempo_atend<br>hora_tempo_acima<br>da_média_]50.77,_500]',\n",
        "         'media_t_atend_s',\n",
        "         'qtd_notas_medias_nps_global',\n",
        "         'qtd_notas_boas_nps_trans',\n",
        "         'classe_nota_media<br>nps_global_bom<br>[7,_9[',\n",
        "         'nota_max_nps_global',\n",
        "         'qtd_notas_boas_nps_global',\n",
        "         'nota_media_nps_global',\n",
        "         'classe_nota_media<br>nps_trans_médio<br>[5,_7[',\n",
        "         'classe_nota_media<br>nps_global_muito<br>ruim_[0,_3[',\n",
        "         'min_t_atend_s',\n",
        "         'min_tempo_sami_meses',\n",
        "         'nota_min_nps_trans',\n",
        "         'classe_nota_media<br>nps_global_ruim<br>[3,_5[',\n",
        "         'nota_min_nps_global',\n",
        "         'classe_nota_media<br>nps_trans_bom<br>[7,_9[',\n",
        "         'qtd_notas_baixas_nps_global',\n",
        "         'tipo_contato_nps<br>trans_Membro_-<br>Cancelado',\n",
        "         'media_dias_atraso_inad',\n",
        "         'tipo_contato_nps<br>global_Membro_-<br>Cancelado',\n",
        "         'classe_nota_media<br>nps_trans_muito<br>bom_[9-10]',\n",
        "    'qtd_tickets_cancelamento',\n",
        "    'pct_tickets_cancelamento'\n",
        "                  ]\n",
        "\n",
        "d_vars_to_adj = {\n",
        "        'qtd_notas_medias_nps_trans':'qtd_notas<br>medias<br>nps_trans',\n",
        "         'classe_nota_media<br>nps_global_muito<br>bom_[9-10]' : 'nota_nps<br>global_muito<br>bom',\n",
        "         'max_tempo_sami_meses':'max_tempo<br>sami_meses',\n",
        "         'classe_nota_media<br>nps_trans_ruim<br>[3,_5[' : 'nota<br>nps_trans<br>ruim ',\n",
        "         'soma_dias_atraso_inad' : 'soma_dias<br>atraso_inad',\n",
        "         'qtd_notas_baixas_nps_trans' : 'qtd_notas<br>baixas<br>nps_trans',\n",
        "         'nota_max_nps_trans' : 'nota_max<br>nps_trans',\n",
        "         'nota_media_nps_trans' : 'nota<br>nps_trans',\n",
        "         'classe_nota_media<br>nps_global_médio<br>[5,_7[' : 'nota nps<br>global<br>médio',\n",
        "         'ultimo_metodo_pag_CARTAO' : 'ultimo_metodo<br>pag_CARTAO',\n",
        "         'ultimo_metodo_pag_BOLETO' : 'ultimo_metodo<br>pag_BOLETO',\n",
        "         'classe_nota_media<br>nps_trans_muito<br>ruim_[0,_3[' : 'nota_nps<br>trans_muito<br>ruim',\n",
        "         'classe_uso_guias<br>abaixo_da<br>média_[0,_2.5[' : 'uso_guias<br>abaixo_da<br>média',\n",
        "         'max_t_atend_hora' : 'max_t<br>atend_h',\n",
        "         'media_t_atend_hora': 'med_t<br>atend_h',\n",
        "         'min_t_atend_hora': 'min_t<br>atend_h',\n",
        "         'media_tempo_sami_meses': 'media_tempo<br>sami_meses',\n",
        "         'max_t_atend_s': 'max_t<br>atend_s',\n",
        "         'classif_tempo_atend<br>hora_tempo_acima<br>da_média_]50.77,_500]': 'temp_atend<br>acima<br>da_média',\n",
        "         'media_t_atend_s' : 'media_t<br>atend_s',\n",
        "         'qtd_notas_medias_nps_global' : 'qtd_notas<br>medias_nps<br>global',\n",
        "         'qtd_notas_boas_nps_trans' : 'qtd_notas<br>boas_nps<br>trans',\n",
        "         'classe_nota_media<br>nps_global_bom<br>[7,_9[' : 'nota nps<br>global_bom',\n",
        "         'nota_max_nps_global':'nota_max<br>nps_global',\n",
        "         'qtd_notas_boas_nps_global': 'qtd_notas<br>boas nps<br>global',\n",
        "         'nota_media_nps_global': 'nota_media<br>nps_global',\n",
        "         'classe_nota_media<br>nps_trans_médio<br>[5,_7[': 'nota_nps<br>trans_médio',\n",
        "         'classe_nota_media<br>nps_global_muito<br>ruim_[0,_3[': 'nota_nps<br>global<br>muito_ruim',\n",
        "         'min_t_atend_s': 'min_t<br>atend_s',\n",
        "         'min_tempo_sami_meses' : 'min_tempo<br>sami_meses',\n",
        "         'nota_min_nps_trans' : 'nota_min<br>nps_trans',\n",
        "         'classe_nota_media<br>nps_global_ruim<br>[3,_5[' : 'nota nps<br>global_ruim',\n",
        "         'nota_min_nps_global': 'nota_min<br>nps_global',\n",
        "         'classe_nota_media<br>nps_trans_bom<br>[7,_9[':  'nota nps<br>global_bom',\n",
        "         'qtd_notas_baixas_nps_global': 'qtd_notas<br>baixas_nps<br>global',\n",
        "         'tipo_contato_nps<br>trans_Membro_-<br>Cancelado': 'tp_contato<br>nps_trans<br>membro-cancel',\n",
        "         'media_dias_atraso_inad': 'media_dias<br>atraso_inad',\n",
        "         'tipo_contato_nps<br>global_Membro_-<br>Cancelado': 'tp_contato<br>nps_glob<br>membro-cancel',\n",
        "         'classe_nota_media<br>nps_trans_muito<br>bom_[9-10]': 'nota_nps<br>trans<br>muito_bom',\n",
        "        'qtd_tickets_cancelamento': 'qtd_tickets<br>cancel',\n",
        "        'pct_tickets_cancelamento': 'pct_tickets<br>cancel'\n",
        "}\n",
        "# def adjust_sel_vars(x):\n",
        "#     if x in vars_to_adj:\n",
        "#         return x.replace('_', '<br>')\n",
        "#     else:\n",
        "#         return x"
      ],
      "metadata": {
        "id": "F-CdtGDWOmJK"
      },
      "execution_count": null,
      "outputs": []
    },
    {
      "cell_type": "markdown",
      "source": [
        "#plot ajustado - plot_feat_sel_score_adj"
      ],
      "metadata": {
        "id": "Lgi5Qh6gOr_p"
      }
    },
    {
      "cell_type": "code",
      "source": [
        "def adjust_discretized(x):\n",
        "    x = x.replace(\"global_muito_ruim\", 'global<br>muito_ruim').replace('global_medio', 'global<br>medio').replace('nota_media_nps_', 'nota_nps<br>')\n",
        "    x = x.split('_]')[0].split('_[')[0].split(' ]')[0].split(' [')[0]\n",
        "\n",
        "    if 'nota<br>media' in x:\n",
        "        x = x.replace('nota<br>media','nota')\n",
        "    if 'tipo_contato' in x:\n",
        "        x = x.replace('tipo_contato', 'tp_cont').replace('-','').replace('Membro_','membro ').replace('_Cancelado', '<br>cancel')\n",
        "    if 'classe_nota' in x:\n",
        "        return x.replace('classe_', '').replace('media<br>', '').replace('media ', '').split('_[')[0]\n",
        "    else:\n",
        "        return x\n",
        "\n",
        "def adjust_sel_vars(x):\n",
        "    if x in vars_to_adj:\n",
        "        return d_vars_to_adj[x]\n",
        "    else:\n",
        "        return x\n",
        "\n",
        "def plot_feat_sel_score_adj(\n",
        "    feat_sel_tab,\n",
        "    method_name,\n",
        "    score_var = 'Score',\n",
        "    feat_var = 'Specs',\n",
        "    threshold = 0.01,\n",
        "    height = 900,\n",
        "    width = 1600,\n",
        "    ticks_rotation=0,\n",
        "    title_x = 0.2,\n",
        "    title_y = 0.1,\n",
        "    title_fontsize = 15,\n",
        "\n",
        "    save_plot = True,\n",
        "#     titulo = '',\n",
        "    out_path = '/dbfs/FileStore/shared_uploads/pedro.bloss@samisaude.com/plots_churn'\n",
        "):\n",
        "    vars_to_remove = list(filter(lambda x: 'não_preenchido' in x or 'não preenchido' in x or x[-4:] == '_nan',\n",
        "                                feat_sel_tab[feat_var].values\n",
        "                                ))\n",
        "    feat_sel_tab = feat_sel_tab[~feat_sel_tab[feat_var].isin(vars_to_remove)]\n",
        "\n",
        "    t = feat_sel_tab.copy()\n",
        "    t.index = t[feat_var].values\n",
        "    t = t[t['minmax_score']>threshold]\n",
        "\n",
        "    # ------- heatmap\n",
        "    plt.figure(figsize=(32,3))\n",
        "    plt.title(f'Feature Selection - {method_name} (>{threshold})',\n",
        "              fontsize = 16)\n",
        "\n",
        "    t.index = list(map(lambda x: x.replace('<br>', ' '),\n",
        "                      list(t.index)\n",
        "                      ))\n",
        "    sns.heatmap(t[['minmax_score']].T,\n",
        "                annot = True,\n",
        "                fmt = '.2f')\n",
        "    plt.show()\n",
        "\n",
        "    # ------ polar plot\n",
        "\n",
        "    # better display for labels\n",
        "    #     t = replace_vars(t, feat_var)\n",
        "    #     t[feat_var] = list(map(lambda x: x.replace(' ', '<br>'), t[feat_var].values))\n",
        "\n",
        "\n",
        "    t[feat_var] = list(map(adjust_sel_vars, t[feat_var].values))\n",
        "    t[feat_var] = list(map(adjust_discretized, t[feat_var].values))\n",
        "\n",
        "    fig = px.line_polar(t[t['minmax_score']>threshold],\n",
        "                        r=\"minmax_score\",\n",
        "                        theta=feat_var,\n",
        "                        line_close=True,\n",
        "                        height = height,\n",
        "                        width = width\n",
        "                       )\n",
        "    fig.update_layout(\n",
        "        title = f'Feature Selection<br>{method_name}<br>(>{threshold})',\n",
        "        title_font_size = title_fontsize,\n",
        "        title_x = title_x,\n",
        "        title_y = title_y,\n",
        "    #         title_y = 0.6,\n",
        "        xaxis_title=\"variáveis\",\n",
        "        yaxis_title=\"minmax score\",\n",
        "        font=dict(\n",
        "            family=\"Lato\",\n",
        "            size=12,\n",
        "        ),\n",
        "        polar_angularaxis = dict(\n",
        "            rotation=ticks_rotation\n",
        "        )\n",
        "    )\n",
        "    if save_plot:\n",
        "        out_file = os.path.join(out_path,\n",
        "                               'featsel_{}.html'.format(\n",
        "                                    method_name.replace('+','_').replace(' ','').replace('(','_').replace(')','')\n",
        "                                    )\n",
        "                               )\n",
        "        fig.write_html(out_file)\n",
        "    fig.show()"
      ],
      "metadata": {
        "id": "DmqdOa2WOsOd"
      },
      "execution_count": null,
      "outputs": []
    },
    {
      "cell_type": "markdown",
      "source": [
        "# Coeficiente Tau de Kendall"
      ],
      "metadata": {
        "id": "u7msKPeTOx3Q"
      }
    },
    {
      "cell_type": "code",
      "source": [
        "from scipy.stats import kendalltau\n",
        "\n",
        "def calc_kendall_tau(\n",
        "                    df,\n",
        "                    output_var = 'e_desligado',\n",
        "                    K=20\n",
        "                    ):\n",
        "    d = {\n",
        "        'var': [],\n",
        "        'kendall_coef': [],\n",
        "        'p_val': []\n",
        "    }\n",
        "    cols_to_remove = [\n",
        "        'contract_id',\n",
        "    'e_desligado',\n",
        "    ]\n",
        "    sel_cols = list(set(df.columns) - set(cols_to_remove))\n",
        "    for var in sel_cols:\n",
        "        tau, p = kendalltau(df[var].astype(float).fillna(0).values,\n",
        "                        df[output_var].values)\n",
        "        d['var'].append(var)\n",
        "        d['kendall_coef'].append(tau)\n",
        "        d['p_val'].append(p)\n",
        "\n",
        "    fs_kendall = pd.DataFrame(d)\n",
        "    fs_kendall['minmax_score'] = list(map(lambda x: (x - fs_kendall['kendall_coef'].min())/(fs_kendall['kendall_coef'].max() - fs_kendall['kendall_coef'].min()),\n",
        "                                        fs_kendall['kendall_coef'].values))\n",
        "    fs_kendall = fs_kendall.sort_values(by=['minmax_score'], ascending = False).reset_index(drop=True)\n",
        "    return fs_kendall.head(K)"
      ],
      "metadata": {
        "id": "zF1fsxIJOyEE"
      },
      "execution_count": null,
      "outputs": []
    },
    {
      "cell_type": "markdown",
      "source": [
        "# Dataset pré-processado - scaling, encoding"
      ],
      "metadata": {
        "id": "kWaZYeAVO4so"
      }
    },
    {
      "cell_type": "markdown",
      "source": [
        "# Chi2"
      ],
      "metadata": {
        "id": "UhRZ0JgpO5BE"
      }
    },
    {
      "cell_type": "code",
      "source": [
        "cols_to_remove = [\n",
        "    'contract_id',\n",
        "    'e_desligado',\n",
        "    'tempo_churn_meses',\n",
        "#     'tempo_contrato_meses'\n",
        "]\n",
        "sel_cols = list(set(df_prep.columns) - set(cols_to_remove))\n",
        "\n",
        "len(sel_cols)"
      ],
      "metadata": {
        "id": "c-jD_9P4O5ZC"
      },
      "execution_count": null,
      "outputs": []
    },
    {
      "cell_type": "code",
      "source": [
        "feature_sel_chi2_prep = select_k_best_features(X_feat = df_prep[sel_cols],\n",
        "                        y = df_prep['e_desligado'].values,\n",
        "                      features =sel_cols,\n",
        "                      score_func = chi2,\n",
        "                      K = 30\n",
        "                      )\n",
        "feature_sel_chi2_prep"
      ],
      "metadata": {
        "id": "NqHDAJ2zPAbL"
      },
      "execution_count": null,
      "outputs": []
    },
    {
      "cell_type": "code",
      "source": [
        "plot_feat_sel_score(feature_sel_chi2_prep,\n",
        "                   'SelectKBest+chi2 (prep)')"
      ],
      "metadata": {
        "id": "5s8yGEovPEus"
      },
      "execution_count": null,
      "outputs": []
    },
    {
      "cell_type": "code",
      "source": [
        "plot_feat_sel_score_adj(\n",
        "    feature_sel_chi2_prep,\n",
        "    'SelectKBest+chi2 (prep)',\n",
        "    threshold = 0.1,\n",
        "    height = 500,\n",
        "    width = 700,\n",
        "    title_x = 0.05,\n",
        "    title_y = 0.95\n",
        ")"
      ],
      "metadata": {
        "id": "D1s2RwKIPEtG"
      },
      "execution_count": null,
      "outputs": []
    },
    {
      "cell_type": "markdown",
      "source": [
        "#Output Categórico\n",
        "\n",
        "\n",
        "Input num - Output cat\n",
        "ANOVA: Analysis of Variance\n",
        "Esta análise determina a variância das features, i.e., o quanto impacta no desfecho.\n",
        "\n",
        "Utiliza-se a distribuição F com hipóteses:\n",
        "H_0: \\sigma^2_x = \\sigma^2_yH\n",
        "0\n",
        "​\n",
        " :σ\n",
        "x\n",
        "2\n",
        "​\n",
        " =σ\n",
        "y\n",
        "2\n",
        "​\n",
        "\n",
        "H_1: \\sigma^2_x \\neq \\sigma^2_yH\n",
        "1\n",
        "​\n",
        " :σ\n",
        "x\n",
        "2\n",
        "​\n",
        " ≠σ\n",
        "y\n",
        "2\n",
        "​\n",
        "\n",
        "e as hipóteses da ANOVA são:\n",
        "H_0: \\mu_i = \\mu, \\forall iH\n",
        "0\n",
        "​\n",
        " :μ\n",
        "i\n",
        "​\n",
        " =μ,∀i\n",
        "(médias iguais)\n",
        "H_1: \\exists \\mu_k : \\mu_k \\neq \\muH\n",
        "1\n",
        "​\n",
        " :∃μ\n",
        "k\n",
        "​\n",
        " :μ\n",
        "k\n",
        "​\n",
        " ≠μ\n",
        "(pelo menos uma é diferente)\n",
        "\n",
        "Para a ANOVA, usamos a função de score f_classif()."
      ],
      "metadata": {
        "id": "-Uz5eUGvPKJ3"
      }
    },
    {
      "cell_type": "markdown",
      "source": [
        "# ANOVA - 1 numéricas iniciais\n"
      ],
      "metadata": {
        "id": "hKrCkTp3PPib"
      }
    },
    {
      "cell_type": "code",
      "source": [
        "cat_cols, num_cols = get_cat_num_vars(df)\n",
        "num_cols"
      ],
      "metadata": {
        "id": "vO9mxKDpPEqx"
      },
      "execution_count": null,
      "outputs": []
    },
    {
      "cell_type": "code",
      "source": [
        "cols_to_remove = [\n",
        "    'contract_id',\n",
        "    'e_desligado',\n",
        "    'tempo_churn_meses',\n",
        "#     'tempo_contrato_meses'\n",
        "]\n",
        "df_prep_sel_cols = list(set(df_prep.columns) - set(cols_to_remove))\n",
        "\n",
        "df_prep[df_prep_sel_cols].head()"
      ],
      "metadata": {
        "id": "8QcidqDnPEod"
      },
      "execution_count": null,
      "outputs": []
    },
    {
      "cell_type": "code",
      "source": [
        "list(set(df_prep.columns) - set(list(set(num_cols) - set(cols_to_remove))))"
      ],
      "metadata": {
        "id": "b3C0YxG4PEmL"
      },
      "execution_count": null,
      "outputs": []
    },
    {
      "cell_type": "code",
      "source": [
        "list(set(df_prep.columns) - set(list(set(num_cols) - set(cols_to_remove))))"
      ],
      "metadata": {
        "id": "-fzbqzckPEj6"
      },
      "execution_count": null,
      "outputs": []
    },
    {
      "cell_type": "code",
      "source": [
        "plot_feat_sel_score_adj(\n",
        "    fs_anova_num,\n",
        "   'SelectKBest+ANOVA (num)',\n",
        "    threshold = 0.01\n",
        ")"
      ],
      "metadata": {
        "id": "a0HOZFgrPEha"
      },
      "execution_count": null,
      "outputs": []
    },
    {
      "cell_type": "markdown",
      "source": [
        "# ANOVA - 2 preprocessado"
      ],
      "metadata": {
        "id": "yYP0aVo2PfvQ"
      }
    },
    {
      "cell_type": "code",
      "source": [
        "cols_to_remove = [\n",
        "    'contract_id',\n",
        "    'e_desligado',\n",
        "    'tempo_churn_meses',\n",
        "#     'tempo_contrato_meses'\n",
        "]\n",
        "df_prep_sel_cols = list(set(df_prep.columns) - set(cols_to_remove))\n",
        "\n",
        "fs_anova_prep = select_k_best_features(\n",
        "    X_feat = df_prep[df_prep_sel_cols].astype(float).fillna(0),\n",
        "                        y = df_prep['e_desligado'].values,\n",
        "                      features = df_prep_sel_cols,\n",
        "                      score_func = f_classif,\n",
        "                      K = 'all'\n",
        "           )\n",
        "fs_anova_prep.T"
      ],
      "metadata": {
        "id": "YM6GL4gnPhnV"
      },
      "execution_count": null,
      "outputs": []
    },
    {
      "cell_type": "code",
      "source": [
        "\n",
        "fs_anova_prep['Specs'].values"
      ],
      "metadata": {
        "id": "t69Z3ZqLPh_G"
      },
      "execution_count": null,
      "outputs": []
    },
    {
      "cell_type": "code",
      "source": [
        "\n",
        "plot_feat_sel_score(fs_anova_prep,\n",
        "\n",
        "                   'SelectKBest+ANOVA (prep)')"
      ],
      "metadata": {
        "id": "kpSXmwrAPh9V"
      },
      "execution_count": null,
      "outputs": []
    },
    {
      "cell_type": "code",
      "source": [
        "plot_feat_sel_score_adj(\n",
        "    fs_anova_prep,\n",
        "   'SelectKBest+ANOVA (prep)',\n",
        "    threshold = 0.01,\n",
        "    title_x = 0.15,\n",
        "    title_y = 0.95,\n",
        "    title_fontsize = 18\n",
        ")"
      ],
      "metadata": {
        "id": "arbDFSSjPh7k"
      },
      "execution_count": null,
      "outputs": []
    },
    {
      "cell_type": "code",
      "source": [
        "plot_feat_sel_score_adj(\n",
        "    fs_anova_prep,\n",
        "   'SelectKBest+ANOVA (prep)',\n",
        "    threshold = 0.1,\n",
        "    title_fontsize = 18,\n",
        "    title_x = 0.05,\n",
        "    title_y = 0.95,\n",
        "    height = 500,\n",
        "    width = 800\n",
        ")"
      ],
      "metadata": {
        "id": "lLzvpE_HPh3S"
      },
      "execution_count": null,
      "outputs": []
    },
    {
      "cell_type": "markdown",
      "source": [
        "#Tau de Kendall 1 - Numéricas Iniciais"
      ],
      "metadata": {
        "id": "5lwA9rYoPtGQ"
      }
    },
    {
      "cell_type": "code",
      "source": [
        "fs_kendall_num = calc_kendall_tau(df_prep[sel_cols_num + ['e_desligado']], K = 100)\n",
        "fs_kendall_num"
      ],
      "metadata": {
        "id": "wwRbcQ5hPxOR"
      },
      "execution_count": null,
      "outputs": []
    },
    {
      "cell_type": "code",
      "source": [
        "plot_feat_sel_score(fs_kendall_num,\n",
        "                   \"SelectKBest+Kendall's Tau (num)\",\n",
        "                   score_var = 'kendall_coef',\n",
        "                    feat_var = 'var',\n",
        "                    threshold = 0.1,\n",
        "                    width = 1700,\n",
        "                    height = 1000,\n",
        "                    ticks_rotation=0\n",
        "                   )"
      ],
      "metadata": {
        "id": "FwbXURo7Pxsz"
      },
      "execution_count": null,
      "outputs": []
    },
    {
      "cell_type": "code",
      "source": [
        "plot_feat_sel_score(fs_kendall_num,\n",
        "                   \"SelectKBest+Kendall's Tau (num)\",\n",
        "                   score_var = 'kendall_coef',\n",
        "                    feat_var = 'var',\n",
        "                    threshold = 0.1,\n",
        "                    width = 1700,\n",
        "                    height = 1000,\n",
        "                    ticks_rotation=0\n",
        "                   )"
      ],
      "metadata": {
        "id": "CIW8mLinPxqr"
      },
      "execution_count": null,
      "outputs": []
    },
    {
      "cell_type": "markdown",
      "source": [
        "# Tau Kendall 2 - preprocessado"
      ],
      "metadata": {
        "id": "rvxp7u2QP71Y"
      }
    },
    {
      "cell_type": "code",
      "source": [
        "fs_kendall_prep = calc_kendall_tau(df_prep[df_prep_sel_cols + ['e_desligado']], K = 100)"
      ],
      "metadata": {
        "id": "QOLImMxoPxn7"
      },
      "execution_count": null,
      "outputs": []
    },
    {
      "cell_type": "code",
      "source": [
        "plot_feat_sel_score(fs_kendall_prep,\n",
        "                   \"SelectKBest+Kendall's Tau (prep)\",\n",
        "                   score_var = 'kendall_coef',\n",
        "                    feat_var = 'var',\n",
        "                    threshold = 0.1,\n",
        "                    width = 1700,\n",
        "                    height = 1000,\n",
        "                    ticks_rotation=0\n",
        "                   )"
      ],
      "metadata": {
        "id": "XDVtQ9BpPxki"
      },
      "execution_count": null,
      "outputs": []
    },
    {
      "cell_type": "code",
      "source": [
        "plot_feat_sel_score_adj(\n",
        "    fs_kendall_prep,\n",
        "   \"SelectKBest+Kendall's Tau (prep)\",\n",
        "    score_var = 'kendall_coef',\n",
        "    feat_var = 'var',\n",
        "    threshold = 0.5,\n",
        "    title_x = 0.15,\n",
        "    title_y = 0.95,\n",
        "    title_fontsize = 20,\n",
        "\n",
        ")"
      ],
      "metadata": {
        "id": "VaxnD6fXPxh6"
      },
      "execution_count": null,
      "outputs": []
    },
    {
      "cell_type": "code",
      "source": [
        "plot_feat_sel_score_adj(\n",
        "    fs_kendall_prep,\n",
        "   \"SelectKBest+Kendall's Tau (prep)\",\n",
        "    score_var = 'kendall_coef',\n",
        "    feat_var = 'var',\n",
        "    threshold = 0.6,\n",
        "    title_x = 0.05,\n",
        "    title_y = 0.95,\n",
        "    title_fontsize = 20,\n",
        "    height = 700,\n",
        "    width = 1000\n",
        ")"
      ],
      "metadata": {
        "id": "xFQvfoEfQEzM"
      },
      "execution_count": null,
      "outputs": []
    },
    {
      "cell_type": "code",
      "source": [
        "fs_kendall_prep"
      ],
      "metadata": {
        "id": "SG4inwUwQEuu"
      },
      "execution_count": null,
      "outputs": []
    },
    {
      "cell_type": "code",
      "source": [
        "def adjust_sel_cat_cols(x):\n",
        "    patterns = [match.start() for match in re.finditer('_', x)]\n",
        "    x = x.replace(' ','_')\n",
        "    if len(patterns) >= 4:\n",
        "        x = x[:patterns[3]] +  ' ' + x[patterns[3]+1:]\n",
        "    if len(patterns) >= 3:\n",
        "        x = x[:patterns[1]] +  ' ' + x[patterns[1]+1:]\n",
        "    return x\n",
        "\n",
        "fs_kendall_prep['var'] = list(map(adjust_sel_cat_cols, fs_kendall_prep['var'].values))\n",
        "fs_kendall_prep['var'] = list(map(lambda x: x.replace(' ', '<br>'), fs_kendall_prep['var'].values))\n",
        "fs_kendall_prep"
      ],
      "metadata": {
        "id": "7-vIGwiVQEsf"
      },
      "execution_count": null,
      "outputs": []
    },
    {
      "cell_type": "code",
      "source": [
        "fs_kendall_prep"
      ],
      "metadata": {
        "id": "xs8q9V43QEqK"
      },
      "execution_count": null,
      "outputs": []
    },
    {
      "cell_type": "code",
      "source": [],
      "metadata": {
        "id": "0Qb9FHqrQEne"
      },
      "execution_count": null,
      "outputs": []
    },
    {
      "cell_type": "code",
      "source": [],
      "metadata": {
        "id": "53fkiuwuQElO"
      },
      "execution_count": null,
      "outputs": []
    },
    {
      "cell_type": "code",
      "source": [],
      "metadata": {
        "id": "n9QfjWl3QEi_"
      },
      "execution_count": null,
      "outputs": []
    }
  ]
}